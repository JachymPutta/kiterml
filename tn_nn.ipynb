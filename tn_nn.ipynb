{
 "cells": [
  {
   "cell_type": "code",
   "execution_count": 1,
   "id": "baf1805b",
   "metadata": {},
   "outputs": [],
   "source": [
    "DATA_LOCATION = 'data2node.txt'\n",
    "VERBOSE = True\n",
    "TO_FILE = True\n",
    "OUTPUT_FILE = 'results.out'"
   ]
  },
  {
   "cell_type": "code",
   "execution_count": 2,
   "id": "9860fd89",
   "metadata": {},
   "outputs": [
    {
     "name": "stderr",
     "output_type": "stream",
     "text": [
      "2023-03-29 14:38:36.793400: I tensorflow/core/platform/cpu_feature_guard.cc:193] This TensorFlow binary is optimized with oneAPI Deep Neural Network Library (oneDNN) to use the following CPU instructions in performance-critical operations:  AVX2 FMA\n",
      "To enable them in other operations, rebuild TensorFlow with the appropriate compiler flags.\n",
      "2023-03-29 14:38:36.910834: W tensorflow/compiler/xla/stream_executor/platform/default/dso_loader.cc:64] Could not load dynamic library 'libcudart.so.11.0'; dlerror: libcudart.so.11.0: cannot open shared object file: No such file or directory\n",
      "2023-03-29 14:38:36.910857: I tensorflow/compiler/xla/stream_executor/cuda/cudart_stub.cc:29] Ignore above cudart dlerror if you do not have a GPU set up on your machine.\n",
      "2023-03-29 14:38:37.477717: W tensorflow/compiler/xla/stream_executor/platform/default/dso_loader.cc:64] Could not load dynamic library 'libnvinfer.so.7'; dlerror: libnvinfer.so.7: cannot open shared object file: No such file or directory\n",
      "2023-03-29 14:38:37.477774: W tensorflow/compiler/xla/stream_executor/platform/default/dso_loader.cc:64] Could not load dynamic library 'libnvinfer_plugin.so.7'; dlerror: libnvinfer_plugin.so.7: cannot open shared object file: No such file or directory\n",
      "2023-03-29 14:38:37.477781: W tensorflow/compiler/tf2tensorrt/utils/py_utils.cc:38] TF-TRT Warning: Cannot dlopen some TensorRT libraries. If you would like to use Nvidia GPU with TensorRT, please make sure the missing libraries mentioned above are installed properly.\n"
     ]
    }
   ],
   "source": [
    "import numpy as np\n",
    "np.set_printoptions(precision=3, suppress=True)\n",
    "import os\n",
    "import tensorflow as tf\n",
    "import pandas as pd\n",
    "\n",
    "from sklearn.model_selection import train_test_split\n",
    "from tensorflow.keras import layers\n",
    "from tensorflow import keras"
   ]
  },
  {
   "cell_type": "code",
   "execution_count": 3,
   "id": "8acc088d",
   "metadata": {},
   "outputs": [],
   "source": [
    "#Debugging\n",
    "def log(s):\n",
    "    if VERBOSE:\n",
    "        print(s)\n",
    "    if TO_FILE:\n",
    "        if os.path.exists(OUTPUT_FILE):\n",
    "            append_write = 'a'\n",
    "        else:\n",
    "            append_write = 'w'\n",
    "        fh = open(OUTPUT_FILE, append_write)\n",
    "        fh.write(s + '\\n')\n",
    "        fh.close()\n",
    "\n",
    "            \n",
    "\n",
    "\n",
    "# Loading data from the files\n",
    "def preprocess():\n",
    "    data = []\n",
    "    results = []\n",
    "\n",
    "    with open(DATA_LOCATION) as data_file:\n",
    "        for row in data_file:\n",
    "            num_list = list(map(int, row.split(' ')))\n",
    "            data.append(num_list[:-1])\n",
    "            results.append(num_list[-1:])\n",
    "    return pd.DataFrame(data), pd.DataFrame(results)\n",
    "\n",
    "\n",
    "# Tiny model\n",
    "def build_and_compile_model(norm):\n",
    "    model = keras.Sequential([\n",
    "        norm,\n",
    "        layers.Dense(1000, input_dim=4,  activation='relu'),\n",
    "        layers.Dense(500, activation='relu'),\n",
    "        layers.Dense(1, activation='linear')\n",
    "    ])\n",
    "\n",
    "    model.compile(loss='mean_squared_error',\n",
    "                  optimizer='adam')\n",
    "    return model\n",
    "\n",
    "def plot_loss(history):\n",
    "    import matplotlib.pyplot as plt\n",
    "    plt.plot(history.history['loss'], label='loss')\n",
    "    plt.plot(history.history['val_loss'], label='val_loss')\n",
    "    plt.ylim([0, 10])\n",
    "    plt.xlabel('Epoch')\n",
    "    plt.ylabel('Error [MPG]')\n",
    "    plt.legend()\n",
    "    plt.grid(True)\n",
    "\n",
    "def plot_predictions(actual_values, predictions):\n",
    "    a = plt.axes(aspect='equal')\n",
    "    plt.scatter(res_tst.T, test_predictions)\n",
    "    plt.xlabel('True Values [MPG]')\n",
    "    plt.ylabel('Predictions [MPG]')\n",
    "    lims = [0, 50]\n",
    "    plt.xlim(lims)\n",
    "    plt.ylim(lims)\n",
    "    _ = plt.plot(lims, lims)\n",
    "    \n",
    "def plot_error(error):\n",
    "    plt.hist(error.T, bins=25)\n",
    "    plt.xlabel('Percentage error')\n",
    "    plt.ylabel('Count')"
   ]
  },
  {
   "cell_type": "code",
   "execution_count": 4,
   "id": "c1a4f31e",
   "metadata": {},
   "outputs": [],
   "source": [
    "# Load the data\n",
    "data, res = preprocess()\n",
    "normalizer = tf.keras.layers.Normalization(axis=-1)\n",
    "\n",
    "eval_results = []\n",
    "abs_errors = []\n",
    "\n",
    "data_train, full_test, result_train, full_res = train_test_split(data, res, test_size=0.15)"
   ]
  },
  {
   "cell_type": "code",
   "execution_count": 5,
   "id": "50bb48e4",
   "metadata": {},
   "outputs": [
    {
     "name": "stdout",
     "output_type": "stream",
     "text": [
      "Current test size is: 0.15\n",
      "Data size - training = 153\n"
     ]
    },
    {
     "name": "stderr",
     "output_type": "stream",
     "text": [
      "2023-03-29 14:38:38.524789: I tensorflow/compiler/xla/stream_executor/cuda/cuda_gpu_executor.cc:981] successful NUMA node read from SysFS had negative value (-1), but there must be at least one NUMA node, so returning NUMA node zero\n",
      "2023-03-29 14:38:38.525022: W tensorflow/compiler/xla/stream_executor/platform/default/dso_loader.cc:64] Could not load dynamic library 'libcudart.so.11.0'; dlerror: libcudart.so.11.0: cannot open shared object file: No such file or directory\n",
      "2023-03-29 14:38:38.525082: W tensorflow/compiler/xla/stream_executor/platform/default/dso_loader.cc:64] Could not load dynamic library 'libcublas.so.11'; dlerror: libcublas.so.11: cannot open shared object file: No such file or directory\n",
      "2023-03-29 14:38:38.525131: W tensorflow/compiler/xla/stream_executor/platform/default/dso_loader.cc:64] Could not load dynamic library 'libcublasLt.so.11'; dlerror: libcublasLt.so.11: cannot open shared object file: No such file or directory\n",
      "2023-03-29 14:38:38.525181: W tensorflow/compiler/xla/stream_executor/platform/default/dso_loader.cc:64] Could not load dynamic library 'libcufft.so.10'; dlerror: libcufft.so.10: cannot open shared object file: No such file or directory\n",
      "2023-03-29 14:38:38.525232: W tensorflow/compiler/xla/stream_executor/platform/default/dso_loader.cc:64] Could not load dynamic library 'libcurand.so.10'; dlerror: libcurand.so.10: cannot open shared object file: No such file or directory\n",
      "2023-03-29 14:38:38.525280: W tensorflow/compiler/xla/stream_executor/platform/default/dso_loader.cc:64] Could not load dynamic library 'libcusolver.so.11'; dlerror: libcusolver.so.11: cannot open shared object file: No such file or directory\n",
      "2023-03-29 14:38:38.525341: W tensorflow/compiler/xla/stream_executor/platform/default/dso_loader.cc:64] Could not load dynamic library 'libcusparse.so.11'; dlerror: libcusparse.so.11: cannot open shared object file: No such file or directory\n",
      "2023-03-29 14:38:38.525392: W tensorflow/compiler/xla/stream_executor/platform/default/dso_loader.cc:64] Could not load dynamic library 'libcudnn.so.8'; dlerror: libcudnn.so.8: cannot open shared object file: No such file or directory\n",
      "2023-03-29 14:38:38.525401: W tensorflow/core/common_runtime/gpu/gpu_device.cc:1934] Cannot dlopen some GPU libraries. Please make sure the missing libraries mentioned above are installed properly if you would like to use GPU. Follow the guide at https://www.tensorflow.org/install/gpu for how to download and setup the required libraries for your platform.\n",
      "Skipping registering GPU devices...\n",
      "2023-03-29 14:38:38.525734: I tensorflow/core/platform/cpu_feature_guard.cc:193] This TensorFlow binary is optimized with oneAPI Deep Neural Network Library (oneDNN) to use the following CPU instructions in performance-critical operations:  AVX2 FMA\n",
      "To enable them in other operations, rebuild TensorFlow with the appropriate compiler flags.\n"
     ]
    },
    {
     "name": "stdout",
     "output_type": "stream",
     "text": [
      "Eval results for test size 0.15 = nan\n",
      "6/6 [==============================] - 0s 1ms/step\n"
     ]
    },
    {
     "ename": "TypeError",
     "evalue": "cannot convert the series to <class 'float'>",
     "output_type": "error",
     "traceback": [
      "\u001b[0;31m---------------------------------------------------------------------------\u001b[0m",
      "\u001b[0;31mTypeError\u001b[0m                                 Traceback (most recent call last)",
      "Input \u001b[0;32mIn [5]\u001b[0m, in \u001b[0;36m<cell line: 2>\u001b[0;34m()\u001b[0m\n\u001b[1;32m     30\u001b[0m error \u001b[38;5;241m=\u001b[39m (\u001b[38;5;241m100\u001b[39m \u001b[38;5;241m*\u001b[39m test_predictions \u001b[38;5;241m-\u001b[39m full_res\u001b[38;5;241m.\u001b[39mT) \u001b[38;5;241m/\u001b[39m full_res\u001b[38;5;241m.\u001b[39mT\n\u001b[1;32m     31\u001b[0m abs_error \u001b[38;5;241m=\u001b[39m \u001b[38;5;28mabs\u001b[39m(error)\u001b[38;5;241m.\u001b[39mT\u001b[38;5;241m.\u001b[39msum() \u001b[38;5;241m/\u001b[39m \u001b[38;5;28mlen\u001b[39m(full_test)\n\u001b[0;32m---> 32\u001b[0m log(\u001b[38;5;124m\"\u001b[39m\u001b[38;5;124mError for test size \u001b[39m\u001b[38;5;124m\"\u001b[39m \u001b[38;5;241m+\u001b[39m \u001b[38;5;28mstr\u001b[39m(test_sz) \u001b[38;5;241m+\u001b[39m \u001b[38;5;124m\"\u001b[39m\u001b[38;5;124m = \u001b[39m\u001b[38;5;124m\"\u001b[39m \u001b[38;5;241m+\u001b[39m \u001b[38;5;28mstr\u001b[39m(\u001b[38;5;28;43mfloat\u001b[39;49m\u001b[43m(\u001b[49m\u001b[43mabs_error\u001b[49m\u001b[43m)\u001b[49m))\n\u001b[1;32m     34\u001b[0m abs_errors\u001b[38;5;241m.\u001b[39mappend(abs_error)\n\u001b[1;32m     36\u001b[0m \u001b[38;5;66;03m# Plotting\u001b[39;00m\n\u001b[1;32m     37\u001b[0m \u001b[38;5;66;03m# plot_loss(history)\u001b[39;00m\n\u001b[1;32m     38\u001b[0m \u001b[38;5;66;03m# plot_predictions(test_predictions, full_res)\u001b[39;00m\n\u001b[1;32m     39\u001b[0m \u001b[38;5;66;03m# plot_error(error)\u001b[39;00m\n",
      "File \u001b[0;32m~/.local/lib/python3.10/site-packages/pandas/core/series.py:191\u001b[0m, in \u001b[0;36m_coerce_method.<locals>.wrapper\u001b[0;34m(self)\u001b[0m\n\u001b[1;32m    189\u001b[0m \u001b[38;5;28;01mif\u001b[39;00m \u001b[38;5;28mlen\u001b[39m(\u001b[38;5;28mself\u001b[39m) \u001b[38;5;241m==\u001b[39m \u001b[38;5;241m1\u001b[39m:\n\u001b[1;32m    190\u001b[0m     \u001b[38;5;28;01mreturn\u001b[39;00m converter(\u001b[38;5;28mself\u001b[39m\u001b[38;5;241m.\u001b[39miloc[\u001b[38;5;241m0\u001b[39m])\n\u001b[0;32m--> 191\u001b[0m \u001b[38;5;28;01mraise\u001b[39;00m \u001b[38;5;167;01mTypeError\u001b[39;00m(\u001b[38;5;124mf\u001b[39m\u001b[38;5;124m\"\u001b[39m\u001b[38;5;124mcannot convert the series to \u001b[39m\u001b[38;5;132;01m{\u001b[39;00mconverter\u001b[38;5;132;01m}\u001b[39;00m\u001b[38;5;124m\"\u001b[39m)\n",
      "\u001b[0;31mTypeError\u001b[0m: cannot convert the series to <class 'float'>"
     ]
    }
   ],
   "source": [
    "# Take data in 20% increments\n",
    "for i in range(15, 100, 20):\n",
    "    # Get the current segment\n",
    "    test_sz = i/100\n",
    "    log(\"Current test size is: \" + str(test_sz))\n",
    "    _, data_slice, _, result_slice = train_test_split(data_train, result_train, test_size=test_sz)\n",
    "\n",
    "    # Train/Test split\n",
    "    log(\"Data size - training = \" + str(len(data_slice)))\n",
    "\n",
    "    # Build model\n",
    "    normalizer.adapt(data_slice)\n",
    "    dnn_model = build_and_compile_model(normalizer)\n",
    "\n",
    "    # Train\n",
    "    history = dnn_model.fit(\n",
    "        data_slice,\n",
    "        result_slice,\n",
    "        validation_split=0.2,\n",
    "        verbose=0, epochs=100)\n",
    "\n",
    "\n",
    "    # Eval\n",
    "    eval_res = dnn_model.evaluate(full_test, full_res, verbose=0)\n",
    "    log(\"Eval results for test size \" + str(test_sz) + \" = \" + str(eval_res))\n",
    "    eval_results.append(eval_res)\n",
    "\n",
    "    # Get error\n",
    "    test_predictions = dnn_model.predict(full_test).flatten()\n",
    "    error = (100 * test_predictions - full_res.T) / full_res.T\n",
    "    abs_error = abs(error).T.sum() / len(full_test)\n",
    "    log(\"Error for test size \" + str(test_sz) + \" = \" + str(float(abs_error)))\n",
    "\n",
    "    abs_errors.append(abs_error)\n",
    "    \n",
    "    # Plotting\n",
    "    # plot_loss(history)\n",
    "    # plot_predictions(test_predictions, full_res)\n",
    "    # plot_error(error)\n",
    "\n",
    "print(\"Absolute errors:\")\n",
    "print(abs_errors)\n",
    "print(\"\\n\\n\")\n",
    "\n",
    "print(\"Evaluations:\")\n",
    "print(eval_results)\n",
    "print(\"\\n\\n\")"
   ]
  },
  {
   "cell_type": "code",
   "execution_count": null,
   "id": "02b11314",
   "metadata": {},
   "outputs": [],
   "source": [
    "plot_loss(history)"
   ]
  },
  {
   "cell_type": "code",
   "execution_count": null,
   "id": "e69f3232",
   "metadata": {},
   "outputs": [],
   "source": []
  }
 ],
 "metadata": {
  "kernelspec": {
   "display_name": "Python 3 (ipykernel)",
   "language": "python",
   "name": "python3"
  },
  "language_info": {
   "codemirror_mode": {
    "name": "ipython",
    "version": 3
   },
   "file_extension": ".py",
   "mimetype": "text/x-python",
   "name": "python",
   "nbconvert_exporter": "python",
   "pygments_lexer": "ipython3",
   "version": "3.10.10"
  }
 },
 "nbformat": 4,
 "nbformat_minor": 5
}
