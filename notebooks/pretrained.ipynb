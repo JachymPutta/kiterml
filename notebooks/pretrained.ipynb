{
 "cells": [
  {
   "cell_type": "code",
   "execution_count": null,
   "id": "d80d8b37",
   "metadata": {},
   "outputs": [],
   "source": [
    "from transformers import pipeline"
   ]
  },
  {
   "cell_type": "code",
   "execution_count": null,
   "id": "522b4e40",
   "metadata": {},
   "outputs": [],
   "source": [
    "def run_pretrained(model_base = MODEL_BASE, prompt = PROMPT):\n",
    "    classifier = pipeline(\"fill-mask\", model = MODEL_BASE)\n",
    "    return classifier(PROMPT)"
   ]
  },
  {
   "cell_type": "markdown",
   "id": "6964169d",
   "metadata": {},
   "source": [
    "Prompt:\n",
    " a normalized synchronous data flow graph with weights (2,3) needs [MASK] tokens for liveness\n",
    "\n",
    "Answers:\n",
    "\n",
    "Distilbert-base-uncased:\n",
    "1. matching\n",
    "2. random\n",
    "3. additional\n",
    "4. appropriate\n",
    "5. different\n",
    "\n",
    "Distilroberta-base\n",
    "1. 2048\n",
    "2. additional\n",
    "3. multiple\n",
    "4. validation\n",
    "5. 5"
   ]
  }
 ],
 "metadata": {
  "kernelspec": {
   "display_name": "Python 3 (ipykernel)",
   "language": "python",
   "name": "python3"
  },
  "language_info": {
   "codemirror_mode": {
    "name": "ipython",
    "version": 3
   },
   "file_extension": ".py",
   "mimetype": "text/x-python",
   "name": "python",
   "nbconvert_exporter": "python",
   "pygments_lexer": "ipython3",
   "version": "3.10.10"
  }
 },
 "nbformat": 4,
 "nbformat_minor": 5
}
